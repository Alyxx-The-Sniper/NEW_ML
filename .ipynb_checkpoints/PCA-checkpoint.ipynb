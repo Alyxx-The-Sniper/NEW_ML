{
 "cells": [
  {
   "cell_type": "markdown",
   "id": "eab1ac9f",
   "metadata": {},
   "source": [
    "# Principal Components Analysis\n",
    "Principal Component Analysis (PCA) is a statistical technique used to reduce the dimensionality of a dataset while preserving most of the variance. It transforms the original variables into a new set of uncorrelated variables called principal components, ordered by the amount of variance they capture from the data."
   ]
  },
  {
   "cell_type": "markdown",
   "id": "9d323f8a",
   "metadata": {},
   "source": [
    "**Commoly use for:**\n",
    "\n",
    "**1. Data Visualization:** Helps in visualizing high-dimensional data by projecting it onto 2D or 3D spaces, revealing patterns and clusters.\n",
    "\n",
    "**2. Feature Extraction:** Identifies and constructs new features that summarize the original data, enhancing the performance of machine learning models."
   ]
  },
  {
   "cell_type": "code",
   "execution_count": null,
   "id": "8f48edb4",
   "metadata": {},
   "outputs": [],
   "source": []
  },
  {
   "cell_type": "code",
   "execution_count": null,
   "id": "ba85107e",
   "metadata": {},
   "outputs": [],
   "source": []
  },
  {
   "cell_type": "code",
   "execution_count": null,
   "id": "6bad58f6",
   "metadata": {},
   "outputs": [],
   "source": []
  },
  {
   "cell_type": "code",
   "execution_count": null,
   "id": "b9b79fbe",
   "metadata": {},
   "outputs": [],
   "source": []
  }
 ],
 "metadata": {
  "kernelspec": {
   "display_name": "Python 3 (ipykernel)",
   "language": "python",
   "name": "python3"
  },
  "language_info": {
   "codemirror_mode": {
    "name": "ipython",
    "version": 3
   },
   "file_extension": ".py",
   "mimetype": "text/x-python",
   "name": "python",
   "nbconvert_exporter": "python",
   "pygments_lexer": "ipython3",
   "version": "3.8.13"
  }
 },
 "nbformat": 4,
 "nbformat_minor": 5
}
